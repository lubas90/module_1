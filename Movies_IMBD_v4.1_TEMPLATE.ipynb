{
 "cells": [
  {
   "cell_type": "code",
   "execution_count": 3,
   "metadata": {
    "_cell_guid": "b1076dfc-b9ad-4769-8c92-a6c4dae69d19",
    "_uuid": "8f2839f25d086af736a60e9eeb907d3b93b6e0e5",
    "colab": {},
    "colab_type": "code",
    "id": "U2D2gTdJVp90"
   },
   "outputs": [],
   "source": [
    "import numpy as np\n",
    "import pandas as pd\n",
    "import seaborn as sns\n",
    "import matplotlib.pyplot as plt\n",
    "from collections import Counter"
   ]
  },
  {
   "cell_type": "code",
   "execution_count": 4,
   "metadata": {
    "_cell_guid": "79c7e3d0-c299-4dcb-8224-4455121ee9b0",
    "_uuid": "d629ff2d2480ee46fbb7e2d37f6b5fab8052498a",
    "colab": {},
    "colab_type": "code",
    "id": "oyGfxL3eVp9-"
   },
   "outputs": [
    {
     "data": {
      "text/html": [
       "<div>\n",
       "<style scoped>\n",
       "    .dataframe tbody tr th:only-of-type {\n",
       "        vertical-align: middle;\n",
       "    }\n",
       "\n",
       "    .dataframe tbody tr th {\n",
       "        vertical-align: top;\n",
       "    }\n",
       "\n",
       "    .dataframe thead th {\n",
       "        text-align: right;\n",
       "    }\n",
       "</style>\n",
       "<table border=\"1\" class=\"dataframe\">\n",
       "  <thead>\n",
       "    <tr style=\"text-align: right;\">\n",
       "      <th></th>\n",
       "      <th>imdb_id</th>\n",
       "      <th>budget</th>\n",
       "      <th>revenue</th>\n",
       "      <th>original_title</th>\n",
       "      <th>cast</th>\n",
       "      <th>director</th>\n",
       "      <th>tagline</th>\n",
       "      <th>overview</th>\n",
       "      <th>runtime</th>\n",
       "      <th>genres</th>\n",
       "      <th>production_companies</th>\n",
       "      <th>release_date</th>\n",
       "      <th>vote_average</th>\n",
       "      <th>release_year</th>\n",
       "    </tr>\n",
       "  </thead>\n",
       "  <tbody>\n",
       "    <tr>\n",
       "      <th>1769</th>\n",
       "      <td>tt0480242</td>\n",
       "      <td>25000000</td>\n",
       "      <td>68377859</td>\n",
       "      <td>Dan in Real Life</td>\n",
       "      <td>Steve Carell|Juliette Binoche|Dane Cook|Dianne...</td>\n",
       "      <td>Peter Hedges</td>\n",
       "      <td>Something's happening to Dan. It's confusing. ...</td>\n",
       "      <td>Advice columnist, Dan Burns is an expert on re...</td>\n",
       "      <td>98</td>\n",
       "      <td>Comedy|Romance|Drama</td>\n",
       "      <td>Touchstone Pictures|Focus Features|Jon Shestac...</td>\n",
       "      <td>10/26/2007</td>\n",
       "      <td>6.5</td>\n",
       "      <td>2007</td>\n",
       "    </tr>\n",
       "    <tr>\n",
       "      <th>1014</th>\n",
       "      <td>tt0401729</td>\n",
       "      <td>260000000</td>\n",
       "      <td>284139100</td>\n",
       "      <td>John Carter</td>\n",
       "      <td>Taylor Kitsch|Lynn Collins|Mark Strong|Willem ...</td>\n",
       "      <td>Andrew Stanton</td>\n",
       "      <td>Lost in Our World. Found in Another.</td>\n",
       "      <td>Civil War vet John Carter is transplanted to M...</td>\n",
       "      <td>132</td>\n",
       "      <td>Action|Adventure|Fantasy|Science Fiction</td>\n",
       "      <td>Walt Disney Pictures</td>\n",
       "      <td>3/7/2012</td>\n",
       "      <td>6.0</td>\n",
       "      <td>2012</td>\n",
       "    </tr>\n",
       "    <tr>\n",
       "      <th>491</th>\n",
       "      <td>tt1320239</td>\n",
       "      <td>10000000</td>\n",
       "      <td>4349187</td>\n",
       "      <td>Burke &amp; Hare</td>\n",
       "      <td>Simon Pegg|Andy Serkis|Isla Fisher|Tom Wilkins...</td>\n",
       "      <td>John Landis</td>\n",
       "      <td>No Job Too Small. No Body Too Big. No Question...</td>\n",
       "      <td>Two 19th-century opportunists (Simon Pegg, And...</td>\n",
       "      <td>91</td>\n",
       "      <td>Comedy|Thriller</td>\n",
       "      <td>Ealing Studios|Fragile Films|Quickfire Films|P...</td>\n",
       "      <td>10/29/2010</td>\n",
       "      <td>6.0</td>\n",
       "      <td>2010</td>\n",
       "    </tr>\n",
       "    <tr>\n",
       "      <th>58</th>\n",
       "      <td>tt2679042</td>\n",
       "      <td>35000000</td>\n",
       "      <td>82347656</td>\n",
       "      <td>Hitman: Agent 47</td>\n",
       "      <td>Rupert Friend|Zachary Quinto|Hannah Ware|Emili...</td>\n",
       "      <td>Aleksander Bach</td>\n",
       "      <td>Your Number is Up.</td>\n",
       "      <td>An assassin teams up with a woman to help her ...</td>\n",
       "      <td>96</td>\n",
       "      <td>Action|Crime|Thriller</td>\n",
       "      <td>Twentieth Century Fox Film Corporation|Fox Int...</td>\n",
       "      <td>8/20/2015</td>\n",
       "      <td>5.5</td>\n",
       "      <td>2015</td>\n",
       "    </tr>\n",
       "    <tr>\n",
       "      <th>1453</th>\n",
       "      <td>tt0396171</td>\n",
       "      <td>50000000</td>\n",
       "      <td>132180323</td>\n",
       "      <td>Perfume: The Story of a Murderer</td>\n",
       "      <td>Ben Whishaw|Simon Chandler|David Calder|Richar...</td>\n",
       "      <td>Tom Tykwer</td>\n",
       "      <td>Based on the best-selling novel</td>\n",
       "      <td>Jean-Baptiste Grenouille, born in the stench o...</td>\n",
       "      <td>147</td>\n",
       "      <td>Crime|Fantasy|Drama</td>\n",
       "      <td>Davis-Films|Nouvelles Ã‰ditions de Films (NEF)...</td>\n",
       "      <td>9/13/2006</td>\n",
       "      <td>7.0</td>\n",
       "      <td>2006</td>\n",
       "    </tr>\n",
       "  </tbody>\n",
       "</table>\n",
       "</div>"
      ],
      "text/plain": [
       "        imdb_id     budget    revenue                    original_title  \\\n",
       "1769  tt0480242   25000000   68377859                  Dan in Real Life   \n",
       "1014  tt0401729  260000000  284139100                       John Carter   \n",
       "491   tt1320239   10000000    4349187                      Burke & Hare   \n",
       "58    tt2679042   35000000   82347656                  Hitman: Agent 47   \n",
       "1453  tt0396171   50000000  132180323  Perfume: The Story of a Murderer   \n",
       "\n",
       "                                                   cast         director  \\\n",
       "1769  Steve Carell|Juliette Binoche|Dane Cook|Dianne...     Peter Hedges   \n",
       "1014  Taylor Kitsch|Lynn Collins|Mark Strong|Willem ...   Andrew Stanton   \n",
       "491   Simon Pegg|Andy Serkis|Isla Fisher|Tom Wilkins...      John Landis   \n",
       "58    Rupert Friend|Zachary Quinto|Hannah Ware|Emili...  Aleksander Bach   \n",
       "1453  Ben Whishaw|Simon Chandler|David Calder|Richar...       Tom Tykwer   \n",
       "\n",
       "                                                tagline  \\\n",
       "1769  Something's happening to Dan. It's confusing. ...   \n",
       "1014               Lost in Our World. Found in Another.   \n",
       "491   No Job Too Small. No Body Too Big. No Question...   \n",
       "58                                   Your Number is Up.   \n",
       "1453                    Based on the best-selling novel   \n",
       "\n",
       "                                               overview  runtime  \\\n",
       "1769  Advice columnist, Dan Burns is an expert on re...       98   \n",
       "1014  Civil War vet John Carter is transplanted to M...      132   \n",
       "491   Two 19th-century opportunists (Simon Pegg, And...       91   \n",
       "58    An assassin teams up with a woman to help her ...       96   \n",
       "1453  Jean-Baptiste Grenouille, born in the stench o...      147   \n",
       "\n",
       "                                        genres  \\\n",
       "1769                      Comedy|Romance|Drama   \n",
       "1014  Action|Adventure|Fantasy|Science Fiction   \n",
       "491                            Comedy|Thriller   \n",
       "58                       Action|Crime|Thriller   \n",
       "1453                       Crime|Fantasy|Drama   \n",
       "\n",
       "                                   production_companies release_date  \\\n",
       "1769  Touchstone Pictures|Focus Features|Jon Shestac...   10/26/2007   \n",
       "1014                               Walt Disney Pictures     3/7/2012   \n",
       "491   Ealing Studios|Fragile Films|Quickfire Films|P...   10/29/2010   \n",
       "58    Twentieth Century Fox Film Corporation|Fox Int...    8/20/2015   \n",
       "1453  Davis-Films|Nouvelles Ã‰ditions de Films (NEF)...    9/13/2006   \n",
       "\n",
       "      vote_average  release_year  \n",
       "1769           6.5          2007  \n",
       "1014           6.0          2012  \n",
       "491            6.0          2010  \n",
       "58             5.5          2015  \n",
       "1453           7.0          2006  "
      ]
     },
     "execution_count": 4,
     "metadata": {},
     "output_type": "execute_result"
    }
   ],
   "source": [
    "data = pd.read_csv('movie_bd_v5.csv')\n",
    "data.sample(5)"
   ]
  },
  {
   "cell_type": "code",
   "execution_count": 5,
   "metadata": {
    "colab": {},
    "colab_type": "code",
    "id": "CoYUnagMVp-C"
   },
   "outputs": [],
   "source": [
    "data.describe()\n",
    "answers = {} # создадим словарь для ответов"
   ]
  },
  {
   "cell_type": "markdown",
   "metadata": {
    "colab_type": "text",
    "id": "DTIt7ezGVp-G"
   },
   "source": [
    "# Предобработка"
   ]
  },
  {
   "cell_type": "code",
   "execution_count": 13,
   "metadata": {
    "colab": {},
    "colab_type": "code",
    "id": "jNb40DwKVp-H"
   },
   "outputs": [],
   "source": [
    "def month(string):\n",
    "    '''extracts the month name from the full date numeric format or returns #error'''\n",
    "    string = string[0:2]\n",
    "    if string == '1/':\n",
    "        return 'January'\n",
    "    elif string == '2/':\n",
    "        return 'February'\n",
    "    elif string == '3/':\n",
    "        return 'March'\n",
    "    elif string == '4/':\n",
    "        return 'April'\n",
    "    elif string == '5/':\n",
    "        return 'May'\n",
    "    elif string == '6/':\n",
    "        return 'June'\n",
    "    elif string == '7/':\n",
    "        return 'July'\n",
    "    elif string == '8/':\n",
    "        return 'August'\n",
    "    elif string == '9/':\n",
    "        return 'September'\n",
    "    elif string == '10':\n",
    "        return 'October'\n",
    "    elif string == '11':\n",
    "        return 'November'\n",
    "    elif string == '12':\n",
    "        return 'December'\n",
    "    else:\n",
    "        return '#error'\n",
    "\n",
    "    \n",
    "    \n",
    "def countwords(string):\n",
    "    '''Calculates the amount of words in the string'''\n",
    "    count = 1\n",
    "    for space in string:\n",
    "        if space == ' ':\n",
    "            count += 1\n",
    "    return count\n",
    "\n",
    "\n",
    "'''original csv dataset corrections and data enrichment'''\n",
    "\n",
    "'''no data about profit in the csv - added one more columm with calculated profit:'''\n",
    "data['profit'] = data.revenue - data.budget\n",
    "'''added a columm with names of film release date month based on the full numeric date:'''\n",
    "data['month'] = data.release_date.apply(lambda x: month(x))\n",
    "'''added a columm with the lenght of film title in characters:'''\n",
    "data['original_title_len'] = data.original_title.apply(lambda x: len(x)) \n",
    "'''added a columm with the calculation of the amont of words in the film overview:'''\n",
    "data['overview_words_count'] = data.overview.apply(lambda x: countwords(x))"
   ]
  },
  {
   "cell_type": "markdown",
   "metadata": {
    "colab_type": "text",
    "id": "YxZaH-nPVp-L"
   },
   "source": [
    "# 1. У какого фильма из списка самый большой бюджет?"
   ]
  },
  {
   "cell_type": "markdown",
   "metadata": {
    "colab_type": "text",
    "id": "Nd-G5gX6Vp-M"
   },
   "source": [
    "Использовать варианты ответов в коде решения запрещено.    \n",
    "Вы думаете и в жизни у вас будут варианты ответов?)"
   ]
  },
  {
   "cell_type": "code",
   "execution_count": 14,
   "metadata": {
    "colab": {},
    "colab_type": "code",
    "id": "uVnXAY5RVp-O"
   },
   "outputs": [],
   "source": [
    "answers['1'] = 'Pirates of the Caribbean: On Stranger Tides'"
   ]
  },
  {
   "cell_type": "code",
   "execution_count": 10,
   "metadata": {
    "colab": {},
    "colab_type": "code",
    "id": "dZwb3m28Vp-S"
   },
   "outputs": [
    {
     "data": {
      "text/plain": [
       "723    Pirates of the Caribbean: On Stranger Tides\n",
       "Name: original_title, dtype: object"
      ]
     },
     "execution_count": 10,
     "metadata": {},
     "output_type": "execute_result"
    }
   ],
   "source": [
    "#dataset filtering based on the maximum budget value\n",
    "data[(data.budget==data.budget.max())].original_title"
   ]
  },
  {
   "cell_type": "markdown",
   "metadata": {
    "colab_type": "text",
    "id": "FNRbbI3vVp-c"
   },
   "source": [
    "# 2. Какой из фильмов самый длительный (в минутах)?"
   ]
  },
  {
   "cell_type": "code",
   "execution_count": 16,
   "metadata": {
    "colab": {},
    "colab_type": "code",
    "id": "vHAoEXNTVp-d"
   },
   "outputs": [],
   "source": [
    "answers['2'] = 'Gods and Generals' #+"
   ]
  },
  {
   "cell_type": "code",
   "execution_count": 11,
   "metadata": {
    "colab": {},
    "colab_type": "code",
    "id": "ot-VX2XrVp-g"
   },
   "outputs": [
    {
     "data": {
      "text/plain": [
       "1157    Gods and Generals\n",
       "Name: original_title, dtype: object"
      ]
     },
     "execution_count": 11,
     "metadata": {},
     "output_type": "execute_result"
    }
   ],
   "source": [
    "#dataset filtering based on the longest runtime value\n",
    "data[(data.runtime==data.runtime.max())].original_title"
   ]
  },
  {
   "cell_type": "markdown",
   "metadata": {
    "colab_type": "text",
    "id": "bapLlpW8Vp-k"
   },
   "source": [
    "# 3. Какой из фильмов самый короткий (в минутах)?\n",
    "\n",
    "\n",
    "\n"
   ]
  },
  {
   "cell_type": "code",
   "execution_count": 17,
   "metadata": {
    "colab": {},
    "colab_type": "code",
    "id": "YBxaSHuAVp-l"
   },
   "outputs": [],
   "source": [
    "answers['3'] = 'Winnie the Pooh' #+"
   ]
  },
  {
   "cell_type": "code",
   "execution_count": 16,
   "metadata": {},
   "outputs": [
    {
     "data": {
      "text/plain": [
       "768    Winnie the Pooh\n",
       "Name: original_title, dtype: object"
      ]
     },
     "execution_count": 16,
     "metadata": {},
     "output_type": "execute_result"
    }
   ],
   "source": [
    "#dataset filtering based on the shortest runtime value\n",
    "data[(data.runtime==data.runtime.min())].original_title"
   ]
  },
  {
   "cell_type": "markdown",
   "metadata": {
    "colab_type": "text",
    "id": "TfQbxbfNVp-p"
   },
   "source": [
    "# 4. Какова средняя длительность фильмов?\n"
   ]
  },
  {
   "cell_type": "code",
   "execution_count": 18,
   "metadata": {
    "colab": {},
    "colab_type": "code",
    "id": "5K6dKZYVVp-q"
   },
   "outputs": [],
   "source": [
    "answers['4'] = 110  #+"
   ]
  },
  {
   "cell_type": "code",
   "execution_count": 20,
   "metadata": {},
   "outputs": [
    {
     "data": {
      "text/plain": [
       "109.6585494970884"
      ]
     },
     "execution_count": 20,
     "metadata": {},
     "output_type": "execute_result"
    }
   ],
   "source": [
    "#using pandas function to define the runtime medium value\n",
    "data.runtime.mean()"
   ]
  },
  {
   "cell_type": "markdown",
   "metadata": {
    "colab_type": "text",
    "id": "r5TvbnT_Vp-u"
   },
   "source": [
    "# 5. Каково медианное значение длительности фильмов? "
   ]
  },
  {
   "cell_type": "code",
   "execution_count": 19,
   "metadata": {
    "colab": {},
    "colab_type": "code",
    "id": "iBROplKnVp-v"
   },
   "outputs": [],
   "source": [
    "answers['5'] = 107  #+"
   ]
  },
  {
   "cell_type": "code",
   "execution_count": 21,
   "metadata": {},
   "outputs": [
    {
     "data": {
      "text/plain": [
       "107.0"
      ]
     },
     "execution_count": 21,
     "metadata": {},
     "output_type": "execute_result"
    }
   ],
   "source": [
    "#using pandas function to define the runtime median value\n",
    "data.runtime.median()"
   ]
  },
  {
   "cell_type": "markdown",
   "metadata": {
    "colab_type": "text",
    "id": "39P-deDSVp-y"
   },
   "source": [
    "# 6. Какой самый прибыльный фильм?\n",
    "#### Внимание! Здесь и далее под «прибылью» или «убытками» понимается разность между сборами и бюджетом фильма. (прибыль = сборы - бюджет) в нашем датасете это будет (profit = revenue - budget) "
   ]
  },
  {
   "cell_type": "code",
   "execution_count": 20,
   "metadata": {
    "colab": {},
    "colab_type": "code",
    "id": "UYZh4T9WVp-y"
   },
   "outputs": [],
   "source": [
    "answers['6'] = 'Avatar' #+"
   ]
  },
  {
   "cell_type": "code",
   "execution_count": 26,
   "metadata": {},
   "outputs": [
    {
     "data": {
      "text/plain": [
       "239    Avatar\n",
       "Name: original_title, dtype: object"
      ]
     },
     "execution_count": 26,
     "metadata": {},
     "output_type": "execute_result"
    }
   ],
   "source": [
    "#dataset filtering based on the biggest profit value (profit column was created during the data prep)\n",
    "data[(data.profit==data.profit.max())].original_title"
   ]
  },
  {
   "cell_type": "markdown",
   "metadata": {
    "colab_type": "text",
    "id": "M99JmIX4Vp-2"
   },
   "source": [
    "# 7. Какой фильм самый убыточный? "
   ]
  },
  {
   "cell_type": "code",
   "execution_count": 21,
   "metadata": {
    "colab": {},
    "colab_type": "code",
    "id": "w-D2m4XPVp-3"
   },
   "outputs": [],
   "source": [
    "answers['7'] = 'The Lone Ranger' #+"
   ]
  },
  {
   "cell_type": "code",
   "execution_count": 29,
   "metadata": {},
   "outputs": [
    {
     "data": {
      "text/plain": [
       "1245    The Lone Ranger\n",
       "Name: original_title, dtype: object"
      ]
     },
     "execution_count": 29,
     "metadata": {},
     "output_type": "execute_result"
    }
   ],
   "source": [
    "#dataset filtering based on the lowest profit value (profit column was created during the data prep)\n",
    "data[(data.profit==data.profit.min())].original_title"
   ]
  },
  {
   "cell_type": "markdown",
   "metadata": {
    "colab_type": "text",
    "id": "wEOM5ERVVp-6"
   },
   "source": [
    "# 8. У скольких фильмов из датасета объем сборов оказался выше бюджета?"
   ]
  },
  {
   "cell_type": "code",
   "execution_count": 22,
   "metadata": {
    "colab": {},
    "colab_type": "code",
    "id": "y00_7HD6Vp-7"
   },
   "outputs": [],
   "source": [
    "answers['8'] = 1478 #+"
   ]
  },
  {
   "cell_type": "code",
   "execution_count": 47,
   "metadata": {},
   "outputs": [
    {
     "data": {
      "text/plain": [
       "1478"
      ]
     },
     "execution_count": 47,
     "metadata": {},
     "output_type": "execute_result"
    }
   ],
   "source": [
    "#calculation of the total count of the films which were profitable\n",
    "data[(data.revenue > data.budget)].original_title.count()"
   ]
  },
  {
   "cell_type": "markdown",
   "metadata": {
    "colab_type": "text",
    "id": "xhpspA9KVp_A"
   },
   "source": [
    "# 9. Какой фильм оказался самым кассовым в 2008 году?"
   ]
  },
  {
   "cell_type": "code",
   "execution_count": 23,
   "metadata": {
    "colab": {},
    "colab_type": "code",
    "id": "MoUyQr9RVp_B"
   },
   "outputs": [],
   "source": [
    "answers['9'] = 'The Dark Knight' #+"
   ]
  },
  {
   "cell_type": "code",
   "execution_count": 53,
   "metadata": {},
   "outputs": [
    {
     "data": {
      "text/plain": [
       "599    The Dark Knight\n",
       "Name: original_title, dtype: object"
      ]
     },
     "execution_count": 53,
     "metadata": {},
     "output_type": "execute_result"
    }
   ],
   "source": [
    "#using pandas to querry the most profitable film in 2008\n",
    "data.query('release_year in [2008]')[(data.query('release_year in [2008]').revenue==data.query('release_year in [2008]').revenue.max())].original_title"
   ]
  },
  {
   "cell_type": "markdown",
   "metadata": {
    "colab_type": "text",
    "id": "Zi4hDKidVp_F"
   },
   "source": [
    "# 10. Самый убыточный фильм за период с 2012 по 2014 г. (включительно)?\n"
   ]
  },
  {
   "cell_type": "code",
   "execution_count": 24,
   "metadata": {
    "colab": {},
    "colab_type": "code",
    "id": "XqyRmufJVp_F"
   },
   "outputs": [],
   "source": [
    "answers['10'] = 'The Lone Ranger' #+"
   ]
  },
  {
   "cell_type": "code",
   "execution_count": 54,
   "metadata": {},
   "outputs": [
    {
     "data": {
      "text/plain": [
       "1245    The Lone Ranger\n",
       "Name: original_title, dtype: object"
      ]
     },
     "execution_count": 54,
     "metadata": {},
     "output_type": "execute_result"
    }
   ],
   "source": [
    "#using pandas to querry the most unprofitable film in 2012-2014 YY\n",
    "data.query('2012<=release_year<=2014')[(data.query('2012<=release_year<=2014').profit==data.query('2012<=release_year<=2014').profit.min())].original_title"
   ]
  },
  {
   "cell_type": "markdown",
   "metadata": {
    "colab_type": "text",
    "id": "EA7Sa9dkVp_I"
   },
   "source": [
    "# 11. Какого жанра фильмов больше всего?"
   ]
  },
  {
   "cell_type": "code",
   "execution_count": 25,
   "metadata": {
    "colab": {},
    "colab_type": "code",
    "id": "zsJAwJ8QVp_J"
   },
   "outputs": [],
   "source": [
    "answers['11'] = 'Drama'"
   ]
  },
  {
   "cell_type": "code",
   "execution_count": 12,
   "metadata": {},
   "outputs": [
    {
     "data": {
      "text/plain": [
       "{'Action': 581,\n",
       " 'Adventure': 414,\n",
       " 'Science Fiction': 247,\n",
       " 'Thriller': 595,\n",
       " 'Fantasy': 221,\n",
       " 'Crime': 314,\n",
       " 'Western': 18,\n",
       " 'Drama': 781,\n",
       " 'Family': 259,\n",
       " 'Animation': 138,\n",
       " 'Comedy': 682,\n",
       " 'Mystery': 167,\n",
       " 'Romance': 307,\n",
       " 'War': 57,\n",
       " 'History': 61,\n",
       " 'Music': 63,\n",
       " 'Horror': 175,\n",
       " 'Documentary': 7,\n",
       " 'Foreign': 1}"
      ]
     },
     "execution_count": 12,
     "metadata": {},
     "output_type": "execute_result"
    }
   ],
   "source": [
    "#the dataset includes fims which were classified to several genres each\n",
    "#creation of the list of different unique genres as the separate items \n",
    "allgenres={}\n",
    "for genre in data.genres:\n",
    "    genreslist = genre.split('|') #genres per film are seperated by \"|\"\n",
    "    for itemgenre in genreslist:\n",
    "        if itemgenre in allgenres:\n",
    "            allgenres[itemgenre] += 1 #calculation of the amount of films in certain genre\n",
    "        else:\n",
    "            allgenres[itemgenre] = 0\n",
    "allgenres"
   ]
  },
  {
   "cell_type": "markdown",
   "metadata": {
    "colab_type": "text",
    "id": "T9_bPWpkVp_Q"
   },
   "source": [
    "# 12. Фильмы какого жанра чаще всего становятся прибыльными? "
   ]
  },
  {
   "cell_type": "code",
   "execution_count": 26,
   "metadata": {
    "colab": {},
    "colab_type": "code",
    "id": "Tmt8MaK1Vp_R"
   },
   "outputs": [],
   "source": [
    "answers['12'] = 'Drama'"
   ]
  },
  {
   "cell_type": "code",
   "execution_count": 8,
   "metadata": {},
   "outputs": [
    {
     "data": {
      "text/plain": [
       "{'Action': 443,\n",
       " 'Adventure': 336,\n",
       " 'Science Fiction': 194,\n",
       " 'Thriller': 445,\n",
       " 'Fantasy': 187,\n",
       " 'Crime': 230,\n",
       " 'Western': 11,\n",
       " 'Drama': 559,\n",
       " 'Family': 225,\n",
       " 'Animation': 119,\n",
       " 'Comedy': 550,\n",
       " 'Mystery': 118,\n",
       " 'Romance': 241,\n",
       " 'War': 40,\n",
       " 'History': 45,\n",
       " 'Music': 46,\n",
       " 'Horror': 149,\n",
       " 'Documentary': 6}"
      ]
     },
     "execution_count": 8,
     "metadata": {},
     "output_type": "execute_result"
    }
   ],
   "source": [
    "#using pandas to querry the most profitable film genres\n",
    "genres_counter(data.query('revenue>budget').genres)"
   ]
  },
  {
   "cell_type": "markdown",
   "metadata": {
    "colab_type": "text",
    "id": "0F23bgsDVp_U"
   },
   "source": [
    "# 13. У какого режиссера самые большие суммарные кассовые сбооры?"
   ]
  },
  {
   "cell_type": "code",
   "execution_count": 27,
   "metadata": {
    "colab": {},
    "colab_type": "code",
    "id": "K6Z3J8ygVp_X"
   },
   "outputs": [],
   "source": [
    "answers['13'] = 'Peter Jackson'"
   ]
  },
  {
   "cell_type": "code",
   "execution_count": 114,
   "metadata": {},
   "outputs": [
    {
     "data": {
      "text/plain": [
       "director\n",
       "Simon Hunter            2033165\n",
       "Keanu Reeves            2054941\n",
       "Paul Schrader           2062066\n",
       "Steven Shainberg        2281089\n",
       "David MichÃ´d           2295423\n",
       "                        ...    \n",
       "J.J. Abrams          3579169916\n",
       "Michael Bay          3886938960\n",
       "David Yates          4154295625\n",
       "Christopher Nolan    4167548502\n",
       "Peter Jackson        6490593685\n",
       "Name: revenue, Length: 957, dtype: int64"
      ]
     },
     "execution_count": 114,
     "metadata": {},
     "output_type": "execute_result"
    }
   ],
   "source": [
    "#ranking the film directors based on the total revenues using pandas querry\n",
    "data.groupby(['director'])['revenue'].sum().sort_values()"
   ]
  },
  {
   "cell_type": "markdown",
   "metadata": {
    "colab_type": "text",
    "id": "PsYC9FgRVp_a"
   },
   "source": [
    "# 14. Какой режисер снял больше всего фильмов в стиле Action?"
   ]
  },
  {
   "cell_type": "code",
   "execution_count": 28,
   "metadata": {
    "colab": {},
    "colab_type": "code",
    "id": "wd2M-wHeVp_b"
   },
   "outputs": [],
   "source": [
    "answers['14'] = 'Robert Rodriguez'"
   ]
  },
  {
   "cell_type": "code",
   "execution_count": 19,
   "metadata": {},
   "outputs": [
    {
     "data": {
      "text/plain": [
       "'Robert Rodriguez'"
      ]
     },
     "execution_count": 19,
     "metadata": {},
     "output_type": "execute_result"
    }
   ],
   "source": [
    "#the dataset includes a few fims which were created by several directors\n",
    "#creating of the complete list of directors\n",
    "directors = {}\n",
    "for director in data.director.value_counts().keys():\n",
    "    if not '|' in director:\n",
    "        directors[director] = 0\n",
    "        \n",
    "#enrichment of the directors list with the info about the amount of the created films in the action genre\n",
    "for director in directors:\n",
    "    directors[director] = data[(data.genres.str.contains(\"Action\") & data.director.str.contains(director))].imdb_id.count()\n",
    "    \n",
    "#definition of the director who created the most of the action films\n",
    "bestdirector = ''\n",
    "maximum = 0\n",
    "for director in directors:\n",
    "    if directors[director] > maximum:\n",
    "        bestdirector = director\n",
    "        maximum = directors[director] \n",
    "    elif directors[director] == maximum:\n",
    "        bestdirector += director\n",
    "bestdirector    "
   ]
  },
  {
   "cell_type": "markdown",
   "metadata": {
    "colab_type": "text",
    "id": "PQ0KciD7Vp_f"
   },
   "source": [
    "# 15. Фильмы с каким актером принесли самые высокие кассовые сборы в 2012 году? "
   ]
  },
  {
   "cell_type": "code",
   "execution_count": 29,
   "metadata": {
    "colab": {},
    "colab_type": "code",
    "id": "aga62oeKVp_g"
   },
   "outputs": [],
   "source": [
    "answers['15'] = 'Chris Hemsworth'"
   ]
  },
  {
   "cell_type": "code",
   "execution_count": 30,
   "metadata": {},
   "outputs": [
    {
     "data": {
      "text/plain": [
       "'Chris Hemsworth'"
      ]
     },
     "execution_count": 30,
     "metadata": {},
     "output_type": "execute_result"
    }
   ],
   "source": [
    "#creating the separate dataset of films that were released in 2012\n",
    "data2012 = data[data.release_year == 2012]\n",
    "\n",
    "#each film in dataset has several casting actors\n",
    "#creating of the complete list of separate actors\n",
    "actors = {}\n",
    "for few_actors_str in data2012.cast:\n",
    "        few_actors_list = few_actors_str.split('|')\n",
    "        for actor in few_actors_list:\n",
    "            if not actor in actors:\n",
    "                #acomulating the total value of film revenues per actor in 2012\n",
    "                actors[actor] = data2012[(data2012.cast.str.contains(actor))].revenue.sum() \n",
    "\n",
    "#defining the actor who casted in the films that gained the highest revenues in 2012\n",
    "bestactor = ''\n",
    "maximum = 0\n",
    "for actor in actors:\n",
    "    if actors[actor] > maximum:\n",
    "        bestactor = actor\n",
    "        maximum = actors[actor] \n",
    "    elif actors[actor] == maximum:\n",
    "        bestactor += '???' + actor\n",
    "bestactor    "
   ]
  },
  {
   "cell_type": "markdown",
   "metadata": {
    "colab_type": "text",
    "id": "mWHyyL7QVp_j"
   },
   "source": [
    "# 16. Какой актер снялся в большем количестве высокобюджетных фильмов?"
   ]
  },
  {
   "cell_type": "code",
   "execution_count": 30,
   "metadata": {
    "colab": {},
    "colab_type": "code",
    "id": "qQtmHKTFVp_k"
   },
   "outputs": [],
   "source": [
    "answers['16'] = 'Matt Damon'"
   ]
  },
  {
   "cell_type": "code",
   "execution_count": 35,
   "metadata": {},
   "outputs": [
    {
     "data": {
      "text/plain": [
       "'Matt Damon'"
      ]
     },
     "execution_count": 35,
     "metadata": {},
     "output_type": "execute_result"
    }
   ],
   "source": [
    "#each film in dataset has several casting actors\n",
    "#creating of the complete list of separate actors\n",
    "actors = {}\n",
    "for few_actors_str in data[data.budget>data.budget.mean()].cast: #filtering only high budget films\n",
    "        few_actors_list = few_actors_str.split('|')\n",
    "        for actor in few_actors_list:\n",
    "            if not actor in actors:\n",
    "                actors[actor] = 1\n",
    "            else:\n",
    "                actors[actor] += 1\n",
    "                \n",
    "#defining the actor who casted in the biggest amount of films with high budget               \n",
    "bestactor = ''\n",
    "maximum = 0\n",
    "for actor in actors:\n",
    "    if actors[actor] > maximum:\n",
    "        bestactor = actor\n",
    "        maximum = actors[actor] \n",
    "    elif actors[actor] == maximum:\n",
    "        bestactor += '???' + actor\n",
    "bestactor    "
   ]
  },
  {
   "cell_type": "markdown",
   "metadata": {
    "colab_type": "text",
    "id": "NIh6AaW5Vp_n"
   },
   "source": [
    "# 17. В фильмах какого жанра больше всего снимался Nicolas Cage? "
   ]
  },
  {
   "cell_type": "code",
   "execution_count": 31,
   "metadata": {
    "colab": {},
    "colab_type": "code",
    "id": "H74SJDIBVp_n"
   },
   "outputs": [],
   "source": [
    "answers['17'] = 'Action'"
   ]
  },
  {
   "cell_type": "code",
   "execution_count": 79,
   "metadata": {},
   "outputs": [
    {
     "data": {
      "text/plain": [
       "{'Action': 20,\n",
       " 'Crime': 13,\n",
       " 'Thriller': 18,\n",
       " 'Comedy': 0,\n",
       " 'Adventure': 4,\n",
       " 'Horror': 0,\n",
       " 'Science Fiction': 1}"
      ]
     },
     "execution_count": 79,
     "metadata": {},
     "output_type": "execute_result"
    }
   ],
   "source": [
    "#defining the top chart of films with Nicolas Cage casting\n",
    "genres_counter(data[data.cast.str.contains('Nicolas Cage')].genres)"
   ]
  },
  {
   "cell_type": "markdown",
   "metadata": {
    "colab_type": "text",
    "id": "RqOmPRfWVp_q"
   },
   "source": [
    "# 18. Самый убыточный фильм от Paramount Pictures"
   ]
  },
  {
   "cell_type": "code",
   "execution_count": 32,
   "metadata": {
    "colab": {},
    "colab_type": "code",
    "id": "9E_B0Y96Vp_r"
   },
   "outputs": [],
   "source": [
    "answers['18'] = 'K-19: The Widowmaker'"
   ]
  },
  {
   "cell_type": "code",
   "execution_count": 43,
   "metadata": {},
   "outputs": [
    {
     "data": {
      "text/plain": [
       "925    K-19: The Widowmaker\n",
       "Name: original_title, dtype: object"
      ]
     },
     "execution_count": 43,
     "metadata": {},
     "output_type": "execute_result"
    }
   ],
   "source": [
    "#defining the most unprofitable Paramount Pictures film\n",
    "paramount_data = data[data.production_companies.str.contains('Paramount Pictures')]\n",
    "paramount_data[paramount_data.profit==paramount_data.profit.min()].original_title"
   ]
  },
  {
   "cell_type": "markdown",
   "metadata": {
    "colab_type": "text",
    "id": "vS8Ur6ddVp_u"
   },
   "source": [
    "# 19. Какой год стал самым успешным по суммарным кассовым сборам?"
   ]
  },
  {
   "cell_type": "code",
   "execution_count": 33,
   "metadata": {
    "colab": {},
    "colab_type": "code",
    "id": "Dnbt4GdIVp_v"
   },
   "outputs": [],
   "source": [
    "answers['19'] = 2015"
   ]
  },
  {
   "cell_type": "code",
   "execution_count": 48,
   "metadata": {},
   "outputs": [
    {
     "data": {
      "text/plain": [
       "release_year\n",
       "2000    10664099805\n",
       "2001    13017764865\n",
       "2002    14136361487\n",
       "2003    14346123312\n",
       "2006    14775042320\n",
       "2005    15309425558\n",
       "2004    15663430720\n",
       "2007    18162406801\n",
       "2008    18252781990\n",
       "2009    20261791024\n",
       "2010    21071204961\n",
       "2011    22676791872\n",
       "2012    23079001687\n",
       "2013    23213799791\n",
       "2014    23405862953\n",
       "2015    25449202382\n",
       "Name: revenue, dtype: int64"
      ]
     },
     "execution_count": 48,
     "metadata": {},
     "output_type": "execute_result"
    }
   ],
   "source": [
    "#creation of the chart of the years based on the total revenues per all films\n",
    "data.groupby(['release_year']).revenue.sum().sort_values()"
   ]
  },
  {
   "cell_type": "markdown",
   "metadata": {
    "colab_type": "text",
    "id": "JAzJh4QAVp_z"
   },
   "source": [
    "# 20. Какой самый прибыльный год для студии Warner Bros?"
   ]
  },
  {
   "cell_type": "code",
   "execution_count": 34,
   "metadata": {
    "colab": {},
    "colab_type": "code",
    "id": "wgVu02DEVp_0"
   },
   "outputs": [],
   "source": [
    "answers['20'] = 2014"
   ]
  },
  {
   "cell_type": "code",
   "execution_count": 49,
   "metadata": {},
   "outputs": [
    {
     "data": {
      "text/plain": [
       "release_year\n",
       "2000     452631386\n",
       "2006     620170743\n",
       "2015     870368348\n",
       "2002    1022709901\n",
       "2012    1258020056\n",
       "2001    1343545668\n",
       "2005    1551980298\n",
       "2004    1631933725\n",
       "2013    1636453400\n",
       "2009    1822454136\n",
       "2003    1855493377\n",
       "2011    1871393682\n",
       "2010    1974712985\n",
       "2008    2134595031\n",
       "2007    2201675217\n",
       "2014    2295464519\n",
       "Name: profit, dtype: int64"
      ]
     },
     "execution_count": 49,
     "metadata": {},
     "output_type": "execute_result"
    }
   ],
   "source": [
    "#calculation of the most profitable year for the WB\n",
    "warner_data = data[data.production_companies.str.contains('Warner Bros')]\n",
    "warner_data.groupby(['release_year']).profit.sum().sort_values()"
   ]
  },
  {
   "cell_type": "markdown",
   "metadata": {
    "colab_type": "text",
    "id": "8Im1S2HRVp_4"
   },
   "source": [
    "# 21. В каком месяце за все годы суммарно вышло больше всего фильмов?"
   ]
  },
  {
   "cell_type": "code",
   "execution_count": 35,
   "metadata": {
    "colab": {},
    "colab_type": "code",
    "id": "lev6TH7gVp_4"
   },
   "outputs": [],
   "source": [
    "answers['21'] = 'September'"
   ]
  },
  {
   "cell_type": "code",
   "execution_count": 67,
   "metadata": {},
   "outputs": [
    {
     "data": {
      "text/plain": [
       "month\n",
       "January      110\n",
       "February     135\n",
       "May          140\n",
       "July         142\n",
       "November     146\n",
       "June         147\n",
       "April        149\n",
       "March        156\n",
       "August       161\n",
       "October      186\n",
       "December     190\n",
       "September    227\n",
       "Name: imdb_id, dtype: int64"
      ]
     },
     "execution_count": 67,
     "metadata": {},
     "output_type": "execute_result"
    }
   ],
   "source": [
    "#defining of the month in which the biggest amount of films were created\n",
    "#month column was created during the data prep\n",
    "data.groupby(['month']).imdb_id.nunique().sort_values()"
   ]
  },
  {
   "cell_type": "markdown",
   "metadata": {
    "colab_type": "text",
    "id": "uAJsZ_NeVp_7"
   },
   "source": [
    "# 22. Сколько суммарно вышло фильмов летом? (за июнь, июль, август)"
   ]
  },
  {
   "cell_type": "code",
   "execution_count": 36,
   "metadata": {
    "colab": {},
    "colab_type": "code",
    "id": "Aa-hEREoVp_8"
   },
   "outputs": [],
   "source": [
    "answers['22'] = '450'"
   ]
  },
  {
   "cell_type": "code",
   "execution_count": 75,
   "metadata": {},
   "outputs": [
    {
     "data": {
      "text/plain": [
       "450"
      ]
     },
     "execution_count": 75,
     "metadata": {},
     "output_type": "execute_result"
    }
   ],
   "source": [
    "#defining of the total amount of films that were created during the summer\n",
    "#month column was created during the data prep\n",
    "data[(data.month.isin(['June','July','August']))].imdb_id.nunique()"
   ]
  },
  {
   "cell_type": "markdown",
   "metadata": {
    "colab_type": "text",
    "id": "G94ppOY1VqAA"
   },
   "source": [
    "# 23. Для какого режиссера зима – самое продуктивное время года? "
   ]
  },
  {
   "cell_type": "code",
   "execution_count": 37,
   "metadata": {
    "colab": {},
    "colab_type": "code",
    "id": "RhNTsamuVqAB"
   },
   "outputs": [],
   "source": [
    "answers['23'] = 'Peter Jackson'"
   ]
  },
  {
   "cell_type": "code",
   "execution_count": 78,
   "metadata": {},
   "outputs": [
    {
     "data": {
      "text/plain": [
       "'Peter Jackson'"
      ]
     },
     "execution_count": 78,
     "metadata": {},
     "output_type": "execute_result"
    }
   ],
   "source": [
    "#creation of the separate dataset for the films created in the Winter\n",
    "winter_data = data[(data.month.isin(['December','January','February']))]\n",
    "\n",
    "#the dataset includes a few fims which were created by several directors\n",
    "#creating of the complete list of directors\n",
    "directors = {}\n",
    "for few_directors_str in winter_data.director:\n",
    "        few_directors_list = few_directors_str.split('|')\n",
    "        for director in few_directors_list:\n",
    "            if not director in directors:\n",
    "                directors[director] = 1\n",
    "            else:\n",
    "                directors[director] += 1\n",
    "                \n",
    "#definition of the director who created the most of the films during the Winter season\n",
    "bestdirector = ''\n",
    "maximum = 0\n",
    "for director in directors:\n",
    "    if directors[director] > maximum:\n",
    "        bestdirector = director\n",
    "        maximum = directors[director] \n",
    "    elif directors[director] == maximum:\n",
    "        bestdirector += director\n",
    "bestdirector"
   ]
  },
  {
   "cell_type": "markdown",
   "metadata": {
    "colab_type": "text",
    "id": "RBo0JVjVVqAF"
   },
   "source": [
    "# 24. Какая студия дает самые длинные названия своим фильмам по количеству символов?"
   ]
  },
  {
   "cell_type": "code",
   "execution_count": 38,
   "metadata": {
    "colab": {},
    "colab_type": "code",
    "id": "QRGS8L0iVqAG"
   },
   "outputs": [],
   "source": [
    "answers['24'] = 'Four By Two Productions'"
   ]
  },
  {
   "cell_type": "code",
   "execution_count": 40,
   "metadata": {},
   "outputs": [
    {
     "data": {
      "text/plain": [
       "'Four By Two Productions'"
      ]
     },
     "execution_count": 40,
     "metadata": {},
     "output_type": "execute_result"
    }
   ],
   "source": [
    "#the dataset includes a few fims which were created by several studios\n",
    "#creating of the complete list of studios\n",
    "studios_len = {}\n",
    "for few_studios_str in data.production_companies:\n",
    "        few_studios_list = few_studios_str.split('|')\n",
    "        for studio in few_studios_list:\n",
    "            if not studio in studios_len:\n",
    "                #calculation of the average lenght of the name of the film per studio\n",
    "                studios_len[studio] = data[data.production_companies.str.contains(studio)].original_title_len.mean()\n",
    "\n",
    "#defining of the studio with the longest average name of created films\n",
    "longestlen = ''\n",
    "maximum = 0\n",
    "for studio in studios_len:\n",
    "    if studios_len[studio] > maximum:\n",
    "        longestlen = studio\n",
    "        maximum = studios_len[studio] \n",
    "    elif studios_len[studio] == maximum:\n",
    "        longestlen += studio\n",
    "longestlen"
   ]
  },
  {
   "cell_type": "markdown",
   "metadata": {
    "colab_type": "text",
    "id": "9G0hbvR7VqAK"
   },
   "source": [
    "# 25. Описание фильмов какой студии в среднем самые длинные по количеству слов?"
   ]
  },
  {
   "cell_type": "code",
   "execution_count": 41,
   "metadata": {
    "colab": {},
    "colab_type": "code",
    "id": "Ge2GsLNxVqAK"
   },
   "outputs": [],
   "source": [
    "answers['25'] = 'Midnight Picture Show'"
   ]
  },
  {
   "cell_type": "code",
   "execution_count": 42,
   "metadata": {},
   "outputs": [
    {
     "data": {
      "text/plain": [
       "'Midnight Picture Show'"
      ]
     },
     "execution_count": 42,
     "metadata": {},
     "output_type": "execute_result"
    }
   ],
   "source": [
    "#the dataset includes a few fims which were created by several studios\n",
    "#creating of the complete list of studios\n",
    "studios_len = {}\n",
    "for few_studios_str in data.production_companies:\n",
    "        few_studios_list = few_studios_str.split('|')\n",
    "        for studio in few_studios_list:\n",
    "            if not studio in studios_len:\n",
    "                #calculation of the biggest average amount of words in the film overview per studio\n",
    "                studios_len[studio] = data[data.production_companies.str.contains(studio)].overview_words_count.mean()\n",
    "\n",
    "#defining of the studio with the average biggest amount of words in the film overview \n",
    "longestlen = ''\n",
    "maximum = 0\n",
    "for studio in studios_len:\n",
    "    if studios_len[studio] > maximum:\n",
    "        longestlen = studio\n",
    "        maximum = studios_len[studio] \n",
    "    elif studios_len[studio] == maximum:\n",
    "        longestlen += studio\n",
    "longestlen"
   ]
  },
  {
   "cell_type": "markdown",
   "metadata": {
    "colab_type": "text",
    "id": "FJ1AFt90VqAP"
   },
   "source": [
    "# 26. Какие фильмы входят в 1 процент лучших по рейтингу? \n",
    "по vote_average"
   ]
  },
  {
   "cell_type": "code",
   "execution_count": 43,
   "metadata": {
    "colab": {},
    "colab_type": "code",
    "id": "8qmJVq4CVqAQ"
   },
   "outputs": [],
   "source": [
    "answers['26'] = 'Inside Out, The Dark Knight, 12 Years a Slave'"
   ]
  },
  {
   "cell_type": "code",
   "execution_count": 104,
   "metadata": {},
   "outputs": [
    {
     "data": {
      "text/plain": [
       "original_title\n",
       "The Dark Knight                                  8.1\n",
       "The Imitation Game                               8.0\n",
       "Room                                             8.0\n",
       "Interstellar                                     8.0\n",
       "Inside Out                                       8.0\n",
       "The Grand Budapest Hotel                         7.9\n",
       "The Pianist                                      7.9\n",
       "Guardians of the Galaxy                          7.9\n",
       "Memento                                          7.9\n",
       "The Wolf of Wall Street                          7.9\n",
       "Inception                                        7.9\n",
       "Gone Girl                                        7.9\n",
       "12 Years a Slave                                 7.9\n",
       "The Lord of the Rings: The Return of the King    7.9\n",
       "Prisoners                                        7.8\n",
       "The Fault in Our Stars                           7.8\n",
       "Eternal Sunshine of the Spotless Mind            7.8\n",
       "The Prestige                                     7.8\n",
       "Name: vote_average, dtype: float64"
      ]
     },
     "execution_count": 104,
     "metadata": {},
     "output_type": "execute_result"
    }
   ],
   "source": [
    "#creation of the chart of the top films by the avarage votes\n",
    "#limiting of the list to top 1%\n",
    "data.groupby(['original_title'])['vote_average'].mean().sort_values(ascending=False).head(len(data)//100)"
   ]
  },
  {
   "cell_type": "markdown",
   "metadata": {
    "colab_type": "text",
    "id": "MdXsUXbCVqAV"
   },
   "source": [
    "# 27. Какие актеры чаще всего снимаются в одном фильме вместе?\n"
   ]
  },
  {
   "cell_type": "code",
   "execution_count": 45,
   "metadata": {},
   "outputs": [],
   "source": [
    "answers['27'] = 'Daniel Radcliffe & Rupert Grint'"
   ]
  },
  {
   "cell_type": "code",
   "execution_count": 116,
   "metadata": {},
   "outputs": [
    {
     "data": {
      "text/plain": [
       "'Daniel Radcliffe&Rupert Grint???Daniel Radcliffe&Emma Watson???Rupert Grint&Emma Watson'"
      ]
     },
     "execution_count": 116,
     "metadata": {},
     "output_type": "execute_result"
    }
   ],
   "source": [
    "#each film in dataset has several casting actors\n",
    "#creating of the complete list of actor couples\n",
    "actors = {}\n",
    "for few_actors_str in data.cast:\n",
    "        few_actors_list = few_actors_str.split('|')\n",
    "        for actor1 in few_actors_list:\n",
    "            for actor2 in few_actors_list:\n",
    "                if actor1 != actor2:\n",
    "                    #calculating of the frequency of the actors playing together in different films\n",
    "                    if not ((actor1+'&'+actor2 in actors) or (actor2+'&'+actor1 in actors)):\n",
    "                        actors[actor1+'&'+actor2] = 1\n",
    "                    elif actor1+'&'+actor2 in actors:\n",
    "                        actors[actor1+'&'+actor2] += 1\n",
    "\n",
    "#definition of the two actors who play together in the biggest amount of different films\n",
    "bestcouple = ''\n",
    "maximum = 0\n",
    "for actor in actors:\n",
    "    if actors[actor] > maximum:\n",
    "        bestcouple = actor\n",
    "        maximum = actors[actor] \n",
    "    elif actors[actor] == maximum:\n",
    "        bestcouple += '???' + actor\n",
    "bestcouple               "
   ]
  },
  {
   "cell_type": "markdown",
   "metadata": {
    "colab_type": "text",
    "id": "4ymnxEVoVqAW"
   },
   "source": [
    "ВАРИАНТ 2"
   ]
  },
  {
   "cell_type": "markdown",
   "metadata": {
    "colab_type": "text",
    "id": "U0nONFnGVqAX"
   },
   "source": [
    "# Submission"
   ]
  },
  {
   "cell_type": "code",
   "execution_count": 46,
   "metadata": {
    "colab": {},
    "colab_type": "code",
    "id": "IfcaRO9-VqAX",
    "outputId": "0f132912-32bb-4196-c98c-abfbc4ad5a5f"
   },
   "outputs": [
    {
     "data": {
      "text/plain": [
       "{'1': 'Pirates of the Caribbean: On Stranger Tides',\n",
       " '2': 'Gods and Generals',\n",
       " '3': 'Winnie the Pooh',\n",
       " '4': 110,\n",
       " '5': 107,\n",
       " '6': 'Avatar',\n",
       " '7': 'The Lone Ranger',\n",
       " '8': 1478,\n",
       " '9': 'The Dark Knight',\n",
       " '10': 'The Lone Ranger',\n",
       " '11': 'Drama',\n",
       " '12': 'Drama',\n",
       " '13': 'Peter Jackson',\n",
       " '14': 'Robert Rodriguez',\n",
       " '15': 'Chris Hemsworth',\n",
       " '16': 'Matt Damon',\n",
       " '17': 'Action',\n",
       " '18': 'K-19: The Widowmaker',\n",
       " '19': 2015,\n",
       " '20': 2014,\n",
       " '21': 'September',\n",
       " '22': '450',\n",
       " '23': 'Peter Jackson',\n",
       " '24': 'Four By Two Productions',\n",
       " '25': 'Midnight Picture Show',\n",
       " '26': 'Inside Out, The Dark Knight, 12 Years a Slave',\n",
       " '27': 'Daniel Radcliffe & Rupert Grint'}"
      ]
     },
     "execution_count": 46,
     "metadata": {},
     "output_type": "execute_result"
    }
   ],
   "source": [
    "answers"
   ]
  },
  {
   "cell_type": "code",
   "execution_count": 47,
   "metadata": {
    "colab": {},
    "colab_type": "code",
    "id": "SiRmHPl8VqAd"
   },
   "outputs": [
    {
     "data": {
      "text/plain": [
       "27"
      ]
     },
     "execution_count": 47,
     "metadata": {},
     "output_type": "execute_result"
    }
   ],
   "source": [
    "len(answers)"
   ]
  },
  {
   "cell_type": "code",
   "execution_count": 0,
   "metadata": {
    "colab": {},
    "colab_type": "code",
    "id": "uCfuTkRbVqAg"
   },
   "outputs": [],
   "source": []
  },
  {
   "cell_type": "code",
   "execution_count": 0,
   "metadata": {
    "colab": {},
    "colab_type": "code",
    "id": "Vwx3NrkSVqAl"
   },
   "outputs": [],
   "source": []
  }
 ],
 "metadata": {
  "colab": {
   "name": "Copy of [SF-DST] Movies IMBD v4.1 TEMPLATE.ipynb",
   "provenance": []
  },
  "kernelspec": {
   "display_name": "Python 3",
   "language": "python",
   "name": "python3"
  },
  "language_info": {
   "codemirror_mode": {
    "name": "ipython",
    "version": 3
   },
   "file_extension": ".py",
   "mimetype": "text/x-python",
   "name": "python",
   "nbconvert_exporter": "python",
   "pygments_lexer": "ipython3",
   "version": "3.7.6"
  }
 },
 "nbformat": 4,
 "nbformat_minor": 1
}
